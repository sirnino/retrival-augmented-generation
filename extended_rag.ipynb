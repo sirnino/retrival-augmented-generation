{
 "cells": [
  {
   "cell_type": "code",
   "execution_count": 33,
   "metadata": {},
   "outputs": [],
   "source": [
    "query = 'Which project is Antonino Sirchia working at the moment?'"
   ]
  },
  {
   "cell_type": "code",
   "execution_count": 2,
   "metadata": {},
   "outputs": [],
   "source": [
    "from langchain_ollama import OllamaEmbeddings\n",
    "from langchain_core.vectorstores import InMemoryVectorStore\n",
    "from langchain_ollama.chat_models import ChatOllama\n",
    "\n",
    "OLLAMA_BASEURL='http://192.168.1.99:11434/'\n",
    "OLLAMA_MODEL='llama3.2:latest'\n",
    "\n",
    "llm = ChatOllama(\n",
    "        model = OLLAMA_MODEL,\n",
    "        temperature = 0,\n",
    "        base_url = OLLAMA_BASEURL\n",
    "    )\n",
    "\n",
    "embeddings = OllamaEmbeddings(\n",
    "    model=OLLAMA_MODEL,\n",
    "    base_url = OLLAMA_BASEURL\n",
    ")\n",
    "\n",
    "vector_store = InMemoryVectorStore(embeddings)"
   ]
  },
  {
   "cell_type": "code",
   "execution_count": 3,
   "metadata": {},
   "outputs": [],
   "source": [
    "from langchain_community.document_loaders import PyPDFLoader\n",
    "from langchain_text_splitters import RecursiveCharacterTextSplitter\n",
    "\n",
    "text_splitter = RecursiveCharacterTextSplitter(\n",
    "    chunk_size=1000, chunk_overlap=200, add_start_index=True\n",
    ")\n",
    "\n",
    "def load_to_knowledge(file_path):\n",
    "    print(f\"\\nProcessing {file_path}\")\n",
    "    loader = PyPDFLoader(file_path)\n",
    "    docs = loader.load()\n",
    "    print(f'\\t{len(docs)} pages found')\n",
    "\n",
    "    splits = text_splitter.split_documents(docs)\n",
    "    print(f'\\t{len(splits)} splits generated')\n",
    "\n",
    "    print('Saving splits to Vectore Store...')\n",
    "    vector_store.add_documents(documents=splits)\n",
    "    print('\\tSaved.\\n')"
   ]
  },
  {
   "cell_type": "code",
   "execution_count": 4,
   "metadata": {},
   "outputs": [
    {
     "name": "stdout",
     "output_type": "stream",
     "text": [
      "\n",
      "Processing docs/SIRA_CV_EN.pdf\n",
      "\t7 pages found\n",
      "\t15 splits generated\n",
      "Saving splits to Vectore Store...\n",
      "\tSaved.\n",
      "\n",
      "Knowledge base ready\n"
     ]
    }
   ],
   "source": [
    "knowledge_base_items = [\n",
    "    'docs/SIRA_CV_EN.pdf'\n",
    "]\n",
    "\n",
    "for item in knowledge_base_items:\n",
    "    load_to_knowledge(item)\n",
    "\n",
    "print('Knowledge base ready')"
   ]
  },
  {
   "cell_type": "markdown",
   "metadata": {},
   "source": [
    "## Define a State to be passed through the chain steps\n"
   ]
  },
  {
   "cell_type": "code",
   "execution_count": 79,
   "metadata": {},
   "outputs": [],
   "source": [
    "from langchain_core.documents import Document\n",
    "from typing_extensions import List, TypedDict\n",
    "\n",
    "class State(TypedDict):\n",
    "    question: str\n",
    "    raw_context: List[Document]\n",
    "    context: List[str]\n",
    "\n",
    "    def __init__(self, question):\n",
    "        self.question = question\n",
    "        self.raw_context = []\n",
    "        self.context = []\n",
    "\n",
    "state = State(question=query)\n",
    "state['context'] = []"
   ]
  },
  {
   "cell_type": "markdown",
   "metadata": {},
   "source": [
    "## Define custom Runnables\n",
    "\n",
    "We create two runnables:\n",
    "- A runnable for similarity search in vector store (this is necessary because it now has to rely on the state variable)\n",
    "- A runnable which invokes an LLM to anonymize the context information retrieved from the vector store"
   ]
  },
  {
   "cell_type": "code",
   "execution_count": null,
   "metadata": {},
   "outputs": [],
   "source": [
    "from langchain_core.runnables import RunnableLambda\n",
    "\n",
    "def retrieve_context(state:State) -> State:\n",
    "    state['raw_context'] = vector_store.similarity_search(state['question'], k=2)\n",
    "    return state\n",
    "\n",
    "retrieve = RunnableLambda(retrieve_context)"
   ]
  },
  {
   "cell_type": "code",
   "execution_count": 90,
   "metadata": {},
   "outputs": [],
   "source": [
    "def anonymize_context_with_llm(state:State) -> State:\n",
    "    p = ChatPromptTemplate.from_template(\"\"\"\n",
    "            Your goal is to remove any confidential information that can be reconducted to an individual person. \n",
    "            In the following text replace any confidential information with the following placeholder: #######\n",
    "\n",
    "            Here is the text:\n",
    "            {content}\n",
    "\n",
    "            \n",
    "            Answer only with the anonymized text.\n",
    "            \"\"\")\n",
    "\n",
    "    anonymization_chain = p | llm\n",
    "\n",
    "    for d in state['raw_context']:\n",
    "        r = anonymization_chain.invoke({'content': d.page_content})\n",
    "        state['context'].append(r.content)\n",
    "    \n",
    "    return state\n",
    "\n",
    "\n",
    "anonymize = RunnableLambda(anonymize_context_with_llm)"
   ]
  },
  {
   "cell_type": "markdown",
   "metadata": {},
   "source": [
    "## Final chain creation"
   ]
  },
  {
   "cell_type": "code",
   "execution_count": 91,
   "metadata": {},
   "outputs": [
    {
     "name": "stdout",
     "output_type": "stream",
     "text": [
      "According to the anonymized text, Antonino Sirchia is currently working on the \"EasyGov\" project.\n"
     ]
    }
   ],
   "source": [
    "from langchain_core.output_parsers import StrOutputParser\n",
    "\n",
    "prompt = ChatPromptTemplate.from_template(\"\"\"\n",
    "    Answer the user's question trying to be as synthetic as possible. Use at max 10 words:\n",
    "    Context: {context}\n",
    "    Question: {question}\n",
    "    \"\"\")\n",
    "chain = retrieve | anonymize | prompt | llm | StrOutputParser()\n",
    "answer = chain.invoke(state)\n",
    "print(answer)"
   ]
  }
 ],
 "metadata": {
  "kernelspec": {
   "display_name": "venv",
   "language": "python",
   "name": "python3"
  },
  "language_info": {
   "codemirror_mode": {
    "name": "ipython",
    "version": 3
   },
   "file_extension": ".py",
   "mimetype": "text/x-python",
   "name": "python",
   "nbconvert_exporter": "python",
   "pygments_lexer": "ipython3",
   "version": "3.10.12"
  }
 },
 "nbformat": 4,
 "nbformat_minor": 2
}
