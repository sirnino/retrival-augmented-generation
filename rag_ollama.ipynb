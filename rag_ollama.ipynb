{
 "cells": [
  {
   "cell_type": "code",
   "execution_count": 19,
   "metadata": {},
   "outputs": [],
   "source": [
    "OLLAMA_BASEURL='http://192.168.1.99:11434/'"
   ]
  },
  {
   "cell_type": "code",
   "execution_count": 20,
   "metadata": {},
   "outputs": [],
   "source": [
    "from langchain_ollama.chat_models import ChatOllama\n",
    "\n",
    "def get_chat_model(model):\n",
    "    return ChatOllama(\n",
    "        model = model,\n",
    "        temperature = 0.2,\n",
    "        base_url = OLLAMA_BASEURL\n",
    "    )\n",
    "\n",
    "llm = get_chat_model('llama3.2:latest')"
   ]
  },
  {
   "cell_type": "code",
   "execution_count": 10,
   "metadata": {},
   "outputs": [
    {
     "name": "stdout",
     "output_type": "stream",
     "text": [
      "How can I assist you today?\n"
     ]
    }
   ],
   "source": [
    "response = llm.invoke(\"Hello\")\n",
    "print(response.content)"
   ]
  },
  {
   "cell_type": "code",
   "execution_count": 13,
   "metadata": {},
   "outputs": [
    {
     "name": "stdout",
     "output_type": "stream",
     "text": [
      "messages=[SystemMessage(content='You are Andrea: a useful assistant skilled in summarizing contents from a set of documents!', additional_kwargs={}, response_metadata={}), HumanMessage(content='Whats your name?', additional_kwargs={}, response_metadata={})]\n"
     ]
    }
   ],
   "source": [
    "from langchain_core.prompts.chat import ChatPromptTemplate\n",
    "\n",
    "prompt = ChatPromptTemplate.from_messages(messages=[\n",
    "            (\"system\", \"You are {bot_name}: a useful assistant skilled in summarizing contents from a set of documents!\"),\n",
    "            (\"user\", \"{user_input}\")\n",
    "        ])\n",
    "\n",
    "response = prompt.invoke({\n",
    "        'bot_name': 'Andrea', \n",
    "        'user_input': 'What''s your name?'\n",
    "    })\n",
    "print(response)"
   ]
  },
  {
   "cell_type": "code",
   "execution_count": 15,
   "metadata": {},
   "outputs": [
    {
     "name": "stdout",
     "output_type": "stream",
     "text": [
      "My name is Andrea. I'm here to help you with summarizing and extracting information from any document or text you'd like me to assist with. How can I help you today?\n"
     ]
    }
   ],
   "source": [
    "chain = prompt | llm\n",
    "\n",
    "response = chain.invoke({\n",
    "        'bot_name': 'Andrea', \n",
    "        'user_input': 'What''s your name?'\n",
    "    })\n",
    "\n",
    "print(response.content)"
   ]
  },
  {
   "cell_type": "code",
   "execution_count": 18,
   "metadata": {},
   "outputs": [
    {
     "name": "stdout",
     "output_type": "stream",
     "text": [
      "My name is Laura. I'm here to help with any document-related tasks or summaries you may need assistance with! How can I assist you today?\n"
     ]
    }
   ],
   "source": [
    "from langchain_core.output_parsers import StrOutputParser\n",
    "\n",
    "chain = prompt | llm | StrOutputParser()\n",
    "\n",
    "response = chain.invoke({\n",
    "        'bot_name': 'Laura', \n",
    "        'user_input': 'What''s your name?'\n",
    "    })\n",
    "\n",
    "print(response)"
   ]
  },
  {
   "cell_type": "code",
   "execution_count": 47,
   "metadata": {},
   "outputs": [
    {
     "name": "stdout",
     "output_type": "stream",
     "text": [
      "\n",
      "\n",
      "Processing docs/titans.pdf\n",
      "{'producer': 'pdfTeX-1.40.25', 'creator': 'LaTeX with hyperref', 'creationdate': '2025-01-03T01:44:50+00:00', 'author': '', 'keywords': '', 'moddate': '2025-01-03T01:44:50+00:00', 'ptex.fullbanner': 'This is pdfTeX, Version 3.141592653-2.6-1.40.25 (TeX Live 2023) kpathsea version 6.3.5', 'subject': '', 'title': '', 'trapped': '/False', 'source': 'docs/titans.pdf', 'total_pages': 27, 'page': 0, 'page_label': '1'}\n",
      "\n",
      "\n",
      "Processing docs/attention_is_all_you_need.pdf\n",
      "{'producer': 'pdfTeX-1.40.25', 'creator': 'LaTeX with hyperref', 'creationdate': '2024-04-10T21:11:43+00:00', 'author': '', 'keywords': '', 'moddate': '2024-04-10T21:11:43+00:00', 'ptex.fullbanner': 'This is pdfTeX, Version 3.141592653-2.6-1.40.25 (TeX Live 2023) kpathsea version 6.3.5', 'subject': '', 'title': '', 'trapped': '/False', 'source': 'docs/attention_is_all_you_need.pdf', 'total_pages': 15, 'page': 0, 'page_label': '1'}\n"
     ]
    }
   ],
   "source": [
    "from langchain_community.document_loaders import PyPDFLoader\n",
    "\n",
    "knowledge_base_items = [\n",
    "    'docs/titans.pdf',\n",
    "    'docs/attention_is_all_you_need.pdf'\n",
    "]\n",
    "\n",
    "for item in knowledge_base_items:\n",
    "    print(f\"\\n\\nProcessing {item}\")\n",
    "    loader = PyPDFLoader(item)\n",
    "    data = loader.load()\n",
    "    print(data[0].metadata)\n",
    "\n"
   ]
  }
 ],
 "metadata": {
  "kernelspec": {
   "display_name": "venv",
   "language": "python",
   "name": "python3"
  },
  "language_info": {
   "codemirror_mode": {
    "name": "ipython",
    "version": 3
   },
   "file_extension": ".py",
   "mimetype": "text/x-python",
   "name": "python",
   "nbconvert_exporter": "python",
   "pygments_lexer": "ipython3",
   "version": "3.10.12"
  }
 },
 "nbformat": 4,
 "nbformat_minor": 2
}
