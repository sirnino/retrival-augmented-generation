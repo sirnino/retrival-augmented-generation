{
 "cells": [
  {
   "cell_type": "markdown",
   "metadata": {},
   "source": [
    "## Initial Setup\n",
    "\n",
    "We initializes three key components:\n",
    "\n",
    "- **LLM Chat Model:**  \n",
    "  Uses `ChatOllama` to interact with a local model (`llama3.2:latest` at `http://192.168.1.99:11434`) with a temperature of 0 for consistent responses.\n",
    "\n",
    "- **Embedding Model:**  \n",
    "  Uses `OllamaEmbeddings` to convert text into semantic vectors for similarity search and contextual understanding.\n",
    "\n",
    "- **Vector Store:**  \n",
    "  Uses `InMemoryVectorStore` to store embeddings in memory, enabling quick retrieval for tasks like semantic search or retrieval-augmented generation.\n",
    "\n",
    "Together, these components provide a simple, flexible architecture ideal for building chatbots, semantic search systems, and more.\n"
   ]
  },
  {
   "cell_type": "code",
   "execution_count": null,
   "metadata": {},
   "outputs": [],
   "source": [
    "from langchain_ollama import OllamaEmbeddings\n",
    "from langchain_core.vectorstores import InMemoryVectorStore\n",
    "from langchain_ollama.chat_models import ChatOllama\n",
    "\n",
    "OLLAMA_BASEURL='http://192.168.1.99:11434/'\n",
    "OLLAMA_MODEL='llama3.2:latest'\n",
    "\n",
    "llm = ChatOllama(\n",
    "        model = OLLAMA_MODEL,\n",
    "        temperature = 0,\n",
    "        base_url = OLLAMA_BASEURL\n",
    "    )\n",
    "\n",
    "embeddings = OllamaEmbeddings(\n",
    "    model=OLLAMA_MODEL,\n",
    "    base_url = OLLAMA_BASEURL\n",
    ")\n",
    "\n",
    "vector_store = InMemoryVectorStore(embeddings)"
   ]
  },
  {
   "cell_type": "markdown",
   "metadata": {},
   "source": [
    "## Load PDF into Knowledge Base\n",
    "\n",
    "This code snippet performs three key steps:\n",
    "\n",
    "- **Load PDF:**  \n",
    "  Uses `PyPDFLoader` to read a PDF file and extract its pages as documents.\n",
    "\n",
    "- **Split Text:**  \n",
    "  Utilizes `RecursiveCharacterTextSplitter` to break the document text into smaller chunks (1000 characters each with a 200-character overlap) and adds the start index for tracking.\n",
    "\n",
    "- **Store Chunks:**  \n",
    "  Saves the resulting text splits into a pre-initialized vector store (via `vector_store.add_documents`), making them available for later retrieval tasks.\n",
    "\n",
    "It processes each file in the `knowledge_base_items` list and logs the progress before confirming that the knowledge base is ready.\n"
   ]
  },
  {
   "cell_type": "code",
   "execution_count": null,
   "metadata": {},
   "outputs": [],
   "source": [
    "from langchain_community.document_loaders import PyPDFLoader\n",
    "from langchain_text_splitters import RecursiveCharacterTextSplitter\n",
    "\n",
    "text_splitter = RecursiveCharacterTextSplitter(\n",
    "    chunk_size=1000, chunk_overlap=200, add_start_index=True\n",
    ")\n",
    "\n",
    "def load_to_knowledge(file_path):\n",
    "    print(f\"\\nProcessing {file_path}\")\n",
    "    loader = PyPDFLoader(file_path)\n",
    "    docs = loader.load()\n",
    "    print(f'\\t{len(docs)} pages found')\n",
    "\n",
    "    splits = text_splitter.split_documents(docs)\n",
    "    print(f'\\t{len(splits)} splits generated')\n",
    "\n",
    "    print('Saving splits to Vectore Store...')\n",
    "    vector_store.add_documents(documents=splits)\n",
    "    print('\\tSaved.\\n')"
   ]
  },
  {
   "cell_type": "code",
   "execution_count": null,
   "metadata": {},
   "outputs": [],
   "source": [
    "knowledge_base_items = [\n",
    "    'docs/SIRA_CV_EN.pdf'\n",
    "]\n",
    "\n",
    "for item in knowledge_base_items:\n",
    "    load_to_knowledge(item)\n",
    "\n",
    "print('Knowledge base ready')"
   ]
  },
  {
   "cell_type": "markdown",
   "metadata": {},
   "source": [
    "## Generate and Refine Concise Answers Using Retrieval\n",
    "\n",
    "This code demonstrates two approaches to generate a brief answer (max 10 words) for a given question.\n",
    "\n",
    "1. **Direct Document Chain:**  \n",
    "   - **Prompt Template:** A chat prompt instructs the LLM to answer succinctly using provided placeholders for context and question.\n",
    "   - **Chain Creation:** The `create_stuff_documents_chain` builds a chain with the LLM and prompt.\n",
    "   - **Invocation:** When invoked with an empty context, the chain relies solely on the LLM’s internal knowledge.\n"
   ]
  },
  {
   "cell_type": "code",
   "execution_count": null,
   "metadata": {},
   "outputs": [],
   "source": [
    "from langchain.chains.combine_documents import create_stuff_documents_chain\n",
    "from langchain.prompts import ChatPromptTemplate\n",
    "\n",
    "# https://smith.langchain.com/hub/rlm/rag-prompt\n",
    "# prompt = hub.pull(\"rlm/rag-prompt\")\n",
    "\n",
    "prompt = ChatPromptTemplate.from_template(\"\"\"\n",
    "Answer the user's question trying to be as synthetic as possible. Use at max 10 words:\n",
    "Context: {context}\n",
    "Question: {input}\n",
    "\"\"\")\n",
    "\n",
    "chain = create_stuff_documents_chain(\n",
    "    llm = llm,\n",
    "    prompt = prompt\n",
    ")\n",
    "\n",
    "response = chain.invoke({\"context\": [], \"input\": 'Which project is Antonino Sirchia working at the moment?'})\n",
    "print(response)"
   ]
  },
  {
   "cell_type": "markdown",
   "metadata": {},
   "source": [
    "2. **Retrieval-Enhanced Chain:**  \n",
    "   - **Retriever:** Converts the vector store into a retriever to extract relevant documents.\n",
    "   - **Retrieval Chain:** The `create_retrieval_chain` wraps the original chain, injecting retrieved context automatically.\n",
    "   - **Invocation:** Running the retrieval chain provides a potentially more informed answer by leveraging external context."
   ]
  },
  {
   "cell_type": "code",
   "execution_count": null,
   "metadata": {},
   "outputs": [],
   "source": [
    "from langchain.chains import create_retrieval_chain\n",
    "\n",
    "retriever = vector_store.as_retriever()\n",
    "\n",
    "retrieval_chain = create_retrieval_chain(retriever, chain)\n",
    "\n",
    "response = retrieval_chain.invoke({'input': 'Which project is Antonino Sirchia working at the moment?'})\n",
    "print(response['answer'])"
   ]
  },
  {
   "cell_type": "markdown",
   "metadata": {},
   "source": [
    "**Key Difference:**  \n",
    "The second snippet shows how the answer can differ when relevant context is automatically provided by the retriever, compared to relying only on the LLM’s built-in knowledge."
   ]
  }
 ],
 "metadata": {
  "kernelspec": {
   "display_name": "venv",
   "language": "python",
   "name": "python3"
  },
  "language_info": {
   "codemirror_mode": {
    "name": "ipython",
    "version": 3
   },
   "file_extension": ".py",
   "mimetype": "text/x-python",
   "name": "python",
   "nbconvert_exporter": "python",
   "pygments_lexer": "ipython3",
   "version": "3.10.12"
  }
 },
 "nbformat": 4,
 "nbformat_minor": 2
}
