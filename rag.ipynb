{
 "cells": [
  {
   "cell_type": "markdown",
   "metadata": {},
   "source": [
    "## Initial setup\n",
    "\n",
    "Our application will use three components:\n",
    "- A LLM model, to chat with\n",
    "- An Embedding model\n",
    "- A Vector Store\n",
    "\n",
    "Let's initialize them at the very beginning, to have the entire architecture in place."
   ]
  },
  {
   "cell_type": "code",
   "execution_count": 8,
   "metadata": {},
   "outputs": [],
   "source": [
    "from langchain_ollama import OllamaEmbeddings\n",
    "from langchain_core.vectorstores import InMemoryVectorStore\n",
    "from langchain_ollama.chat_models import ChatOllama\n",
    "\n",
    "OLLAMA_BASEURL='http://192.168.1.99:11434/'\n",
    "OLLAMA_MODEL='llama3.2:latest'\n",
    "\n",
    "llm = ChatOllama(\n",
    "        model = OLLAMA_MODEL,\n",
    "        temperature = 0,\n",
    "        base_url = OLLAMA_BASEURL\n",
    "    )\n",
    "\n",
    "embeddings = OllamaEmbeddings(\n",
    "    model=OLLAMA_MODEL,\n",
    "    base_url = OLLAMA_BASEURL\n",
    ")\n",
    "\n",
    "vector_store = InMemoryVectorStore(embeddings)"
   ]
  },
  {
   "cell_type": "markdown",
   "metadata": {},
   "source": [
    "## Knowledge base population\n",
    "\n",
    "Let's add the documents which constitute our knowledge base into the Vectore Store."
   ]
  },
  {
   "cell_type": "code",
   "execution_count": 9,
   "metadata": {},
   "outputs": [],
   "source": [
    "from langchain_community.document_loaders import PyPDFLoader\n",
    "from langchain_text_splitters import RecursiveCharacterTextSplitter\n",
    "\n",
    "text_splitter = RecursiveCharacterTextSplitter(\n",
    "    chunk_size=1000, chunk_overlap=200, add_start_index=True\n",
    ")\n",
    "\n",
    "def load_to_knowledge(file_path):\n",
    "    print(f\"\\nProcessing {file_path}\")\n",
    "    loader = PyPDFLoader(file_path)\n",
    "    docs = loader.load()\n",
    "    print(f'\\t{len(docs)} pages found')\n",
    "\n",
    "    splits = text_splitter.split_documents(docs)\n",
    "    print(f'\\t{len(splits)} splits generated')\n",
    "\n",
    "    print('Saving splits to Vectore Store...')\n",
    "    vector_store.add_documents(documents=splits)\n",
    "    print('\\tSaved.\\n')"
   ]
  },
  {
   "cell_type": "code",
   "execution_count": 10,
   "metadata": {},
   "outputs": [
    {
     "name": "stdout",
     "output_type": "stream",
     "text": [
      "\n",
      "Processing docs/SIRA_CV_EN.pdf\n",
      "\t7 pages found\n",
      "\t15 splits generated\n",
      "Saving splits to Vectore Store...\n",
      "\tSaved.\n",
      "\n",
      "Knowledge base ready\n"
     ]
    }
   ],
   "source": [
    "knowledge_base_items = [\n",
    "    'docs/SIRA_CV_EN.pdf'\n",
    "]\n",
    "\n",
    "for item in knowledge_base_items:\n",
    "    load_to_knowledge(item)\n",
    "\n",
    "print('Knowledge base ready')"
   ]
  },
  {
   "cell_type": "markdown",
   "metadata": {},
   "source": [
    "## Query the LLM using Knowledge base as Context\n",
    "\n",
    "To do so we need:\n",
    "- an LLM (already created at the beginning)\n",
    "- the prompt which include both the user input and the context\n",
    "\n",
    "The prompt can be created through te ChatPromptTemplate module"
   ]
  },
  {
   "cell_type": "code",
   "execution_count": 17,
   "metadata": {},
   "outputs": [
    {
     "name": "stdout",
     "output_type": "stream",
     "text": [
      "I'm unable to provide real-time information on current projects.\n"
     ]
    }
   ],
   "source": [
    "from langchain.chains.combine_documents import create_stuff_documents_chain\n",
    "from langchain.prompts import ChatPromptTemplate\n",
    "\n",
    "# https://smith.langchain.com/hub/rlm/rag-prompt\n",
    "# prompt = hub.pull(\"rlm/rag-prompt\")\n",
    "\n",
    "prompt = ChatPromptTemplate.from_template(\"\"\"\n",
    "Answer the user's question trying to be as synthetic as possible. Use at max 10 words:\n",
    "Context: {context}\n",
    "Question: {input}\n",
    "\"\"\")\n",
    "\n",
    "chain = create_stuff_documents_chain(\n",
    "    llm = llm,\n",
    "    prompt = prompt\n",
    ")\n",
    "\n",
    "response = chain.invoke({\"context\": [], \"input\": 'Which project is Antonino Sirchia working at the moment?'})\n",
    "print(response)"
   ]
  },
  {
   "cell_type": "code",
   "execution_count": 18,
   "metadata": {},
   "outputs": [
    {
     "name": "stdout",
     "output_type": "stream",
     "text": [
      "Antonino Sirchia is currently working on ELCA - EasyGov.\n"
     ]
    }
   ],
   "source": [
    "from langchain.chains import create_retrieval_chain\n",
    "\n",
    "retriever = vector_store.as_retriever()\n",
    "\n",
    "retrieval_chain = create_retrieval_chain(retriever, chain)\n",
    "\n",
    "response = retrieval_chain.invoke({'input': 'Which project is Antonino Sirchia working at the moment?'})\n",
    "print(response['answer'])"
   ]
  }
 ],
 "metadata": {
  "kernelspec": {
   "display_name": "venv",
   "language": "python",
   "name": "python3"
  },
  "language_info": {
   "codemirror_mode": {
    "name": "ipython",
    "version": 3
   },
   "file_extension": ".py",
   "mimetype": "text/x-python",
   "name": "python",
   "nbconvert_exporter": "python",
   "pygments_lexer": "ipython3",
   "version": "3.10.12"
  }
 },
 "nbformat": 4,
 "nbformat_minor": 2
}
